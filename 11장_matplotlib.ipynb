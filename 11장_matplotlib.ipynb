{
  "nbformat": 4,
  "nbformat_minor": 0,
  "metadata": {
    "colab": {
      "provenance": [],
      "include_colab_link": true
    },
    "kernelspec": {
      "name": "python3",
      "display_name": "Python 3"
    }
  },
  "cells": [
    {
      "cell_type": "markdown",
      "metadata": {
        "id": "view-in-github",
        "colab_type": "text"
      },
      "source": [
        "<a href=\"https://colab.research.google.com/github/yoon-hyosun/SW/blob/main/11%EC%9E%A5_matplotlib.ipynb\" target=\"_parent\"><img src=\"https://colab.research.google.com/assets/colab-badge.svg\" alt=\"Open In Colab\"/></a>"
      ]
    },
    {
      "cell_type": "markdown",
      "metadata": {
        "id": "WTmm8NAEEZeR"
      },
      "source": [
        "## 생능출판사 (가칭)\"데이터과학 파이썬\" 코드 11장 차트를 멋지게 그려보자"
      ]
    },
    {
      "cell_type": "markdown",
      "metadata": {
        "id": "EJxdn4XvErs_"
      },
      "source": [
        "11.3 matplotlib 무작정 사용해 보기"
      ]
    },
    {
      "cell_type": "code",
      "source": [
        "!pwd\n"
      ],
      "metadata": {
        "colab": {
          "base_uri": "https://localhost:8080/"
        },
        "id": "j2H6olsTQhMl",
        "outputId": "c8fbea28-0bf9-4b33-f9f9-ea04e704ddb3"
      },
      "execution_count": 2,
      "outputs": [
        {
          "output_type": "stream",
          "name": "stdout",
          "text": [
            "/content\n"
          ]
        }
      ]
    },
    {
      "cell_type": "code",
      "metadata": {
        "id": "HoBGAtptij-N",
        "outputId": "63d65e34-5e47-40e5-973c-cd87df34095e",
        "colab": {
          "base_uri": "https://localhost:8080/",
          "height": 281
        }
      },
      "source": [
        "import matplotlib.pyplot as plt \n",
        " \n",
        "# 우리나라의 연간 1인당 국민소득을 각각 years, gdp에 저장\n",
        "years = [1950, 1960, 1970, 1980, 1990, 2000, 2010] \n",
        "gdp = [67.0, 80.0, 257.0, 1686.0, 6505, 11865.3, 22105.3] \n",
        " \n",
        "# 선 그래프를 그린다. x축에는 years값, y축에는 gdp 값이 표시된다.\n",
        "plt.plot(years, gdp, color='green', marker='o', linestyle='solid') \n",
        " \n",
        "# 제목을 설정한다. \n",
        "plt.title(\"GDP per capita\") \n",
        " \n",
        "# y축에 레이블을 붙인다. \n",
        "plt.ylabel(\"dollars\") \n",
        "plt.savefig(\"gdp_per_capita.png\", dpi=600)  # png 이미지로 저장 가능\n",
        "plt.show() \n"
      ],
      "execution_count": 1,
      "outputs": [
        {
          "output_type": "display_data",
          "data": {
            "text/plain": [
              "<Figure size 432x288 with 1 Axes>"
            ],
            "image/png": "[encoded data removed]"
          },
          "metadata": {
            "needs_background": "light"
          }
        }
      ]
    },
    {
      "cell_type": "markdown",
      "metadata": {
        "id": "fYaqQjOqE7TC"
      },
      "source": [
        "## 11.4 맷플롯립 코드 살펴 보기"
      ]
    },
    {
      "cell_type": "code",
      "metadata": {
        "id": "fHS8TejWE-KI"
      },
      "source": [
        "import matplotlib.pyplot as plt"
      ],
      "execution_count": null,
      "outputs": []
    },
    {
      "cell_type": "code",
      "metadata": {
        "id": "RsIK059jE-gx"
      },
      "source": [
        "years = [1950, 1960, 1970, 1980, 1990, 2000, 2010] \n",
        "gdp = [67.0, 80.0, 257.0, 1686.0, 6505, 11865.3, 22105.3]"
      ],
      "execution_count": null,
      "outputs": []
    },
    {
      "cell_type": "code",
      "metadata": {
        "id": "LjgUlYZfE_D9"
      },
      "source": [
        "plt.plot(years, gdp, color='green', marker='o', linestyle='solid') "
      ],
      "execution_count": null,
      "outputs": []
    },
    {
      "cell_type": "code",
      "metadata": {
        "id": "rvF8naKBE-7s"
      },
      "source": [
        "plt.title(\"GDP per capita\") "
      ],
      "execution_count": null,
      "outputs": []
    },
    {
      "cell_type": "code",
      "metadata": {
        "id": "bduqkFZME-Xf"
      },
      "source": [
        "plt.ylabel(\"dollars\")\n",
        "plt.savefig(\"gdp_per_capita.png\", dpi=600)\n",
        "plt.show()"
      ],
      "execution_count": null,
      "outputs": []
    },
    {
      "cell_type": "code",
      "metadata": {
        "id": "Vtf41bjgE9JF"
      },
      "source": [
        "plt.plot(gdp, years, color='red', marker='o', linestyle='solid')"
      ],
      "execution_count": null,
      "outputs": []
    },
    {
      "cell_type": "markdown",
      "metadata": {
        "id": "7vM36J-eFRnL"
      },
      "source": [
        " \n",
        "LAB11-1\n",
        "수학 함수도 쉽게 그려보자\n"
      ]
    },
    {
      "cell_type": "code",
      "metadata": {
        "id": "GQnphJrxiuHt",
        "outputId": "920aeb66-e456-431b-d108-5c64bf8d2c11",
        "colab": {
          "base_uri": "https://localhost:8080/",
          "height": 269
        }
      },
      "source": [
        "import matplotlib.pyplot as plt\n",
        "\n",
        "x = [x for x in range(-10, 10)] \n",
        "y = [2*t for t in x]            # 2*x를 원소로 가지는 y 함수\n",
        "plt.plot(x, y, marker='o')      # 선 그래프에 동그라미 표식을 출력\n",
        "\n",
        "plt.axis([-20, 20, -20, 20])    # 그림을 그릴 영역을 지정함\n",
        "plt.show()\n"
      ],
      "execution_count": null,
      "outputs": [
        {
          "output_type": "display_data",
          "data": {
            "image/png": "[encoded data removed]",
            "text/plain": [
              "<Figure size 432x288 with 1 Axes>"
            ]
          },
          "metadata": {
            "tags": [],
            "needs_background": "light"
          }
        }
      ]
    },
    {
      "cell_type": "markdown",
      "metadata": {
        "id": "A_QK6hhPFWL5"
      },
      "source": [
        "## 11.5 차트 장식을 도와주는 다양한 기법들"
      ]
    },
    {
      "cell_type": "code",
      "metadata": {
        "id": "QkLgZrYLi0HX",
        "outputId": "dc660290-0f12-4bfe-cd37-870b406b84c9",
        "colab": {
          "base_uri": "https://localhost:8080/",
          "height": 269
        }
      },
      "source": [
        "import matplotlib.pyplot as plt # 효율을 위해서 앞으로 이 줄은 생략함\n",
        "\n",
        "x = [x for x in range(-20, 20)] # -20에서 20사이의 수를 1의 간격으로 생성\n",
        "y1 = [2*t for t in x]           # 2*x를 원소로 가지는 y1 함수\n",
        "y2 = [t**2 + 5 for t in x]      # x**2 + 5를 원소로 가지는 y2 함수\n",
        "y3 = [-t**2 - 5 for t in x]     # -x**2 - 5를 원소로 가지는 y3 함수\n",
        "# 빨강색 점선, 녹색 실선과 세모기호, 파랑색 별표와 점선으로 각각의 함수를 표현\n",
        "plt.plot(x, y1, 'r--', x, y2, 'g^-', x, y3, 'b*:')\n",
        "plt.axis([-30, 30, -30, 30])    # 그림을 그릴 영역을 지정함\n",
        "plt.show()\n"
      ],
      "execution_count": null,
      "outputs": [
        {
          "output_type": "display_data",
          "data": {
            "image/png": "[encoded data removed]",
            "text/plain": [
              "<Figure size 432x288 with 1 Axes>"
            ]
          },
          "metadata": {
            "tags": [],
            "needs_background": "light"
          }
        }
      ]
    },
    {
      "cell_type": "markdown",
      "metadata": {
        "id": "YWY9tPxwFbE6"
      },
      "source": [
        "## 11.6 하나의 차트에 여러 개의 데이터를 그려보자"
      ]
    },
    {
      "cell_type": "code",
      "metadata": {
        "id": "YpljC3RLi5jz",
        "outputId": "bca8bcb0-2061-455a-b6be-8aad81fce2e7",
        "colab": {
          "base_uri": "https://localhost:8080/",
          "height": 295
        }
      },
      "source": [
        "import matplotlib.pyplot as plt \n",
        " \n",
        "x = [x for x in range(20)]     # 0에서 20까지의 정수를 생성\n",
        "y = [x**2 for x in range(20)]  # 0에서 20까지의 정수 x에 대해 x 제곱값을 생성\n",
        "z = [x**3 for x in range(20)]  # 0에서 20까지의 정수 x에 대해 x 세제곱값을 생성 \n",
        " \n",
        "plt.plot(x, x, label='linear')    # 각 선에 대한 레이블\n",
        "plt.plot(x, y, label='quadratic') \n",
        "plt.plot(x, z, label='qubic') \n",
        " \n",
        "plt.xlabel('x label')      # x 축의 레이블\n",
        "plt.ylabel('y label')      # y 축의 레이블\n",
        "plt.title(\"My Plot\") \n",
        "plt.legend() \n",
        "plt.show() \n"
      ],
      "execution_count": null,
      "outputs": [
        {
          "output_type": "display_data",
          "data": {
            "image/png": "[encoded data removed]",
            "text/plain": [
              "<Figure size 432x288 with 1 Axes>"
            ]
          },
          "metadata": {
            "tags": [],
            "needs_background": "light"
          }
        }
      ]
    },
    {
      "cell_type": "markdown",
      "metadata": {
        "id": "Yyx9VT4xFfyP"
      },
      "source": [
        "##  LAB11-2\n",
        "##삼각함수의 기본인 사인 그래프 그리기\n"
      ]
    },
    {
      "cell_type": "code",
      "metadata": {
        "id": "ua0b-fmcl71b",
        "outputId": "293104b9-4707-419b-9550-1e17eb0902cc",
        "colab": {
          "base_uri": "https://localhost:8080/",
          "height": 281
        }
      },
      "source": [
        "import math \n",
        "import matplotlib.pyplot as plt \n",
        " \n",
        "x = [] \n",
        "y = [] \n",
        " \n",
        "for angle in range(360): \n",
        "    x.append(angle) \n",
        "    y.append(math.sin(math.radians(angle))) \n",
        " \n",
        "plt.plot(x, y) \n",
        "plt.title(\"SINE WAVE\") \n",
        "plt.show()\n"
      ],
      "execution_count": null,
      "outputs": [
        {
          "output_type": "display_data",
          "data": {
            "image/png": "[encoded data removed]",
            "text/plain": [
              "<Figure size 432x288 with 1 Axes>"
            ]
          },
          "metadata": {
            "tags": [],
            "needs_background": "light"
          }
        }
      ]
    },
    {
      "cell_type": "markdown",
      "metadata": {
        "id": "zDxjiW8DFlg-"
      },
      "source": [
        "## 11.7 막대형 차트도 손쉽게 그려보자"
      ]
    },
    {
      "cell_type": "code",
      "metadata": {
        "id": "pWMfsi5mmA0u",
        "outputId": "0e99982f-d8fe-49e8-ff6b-f3e255925703",
        "colab": {
          "base_uri": "https://localhost:8080/",
          "height": 281
        }
      },
      "source": [
        "from matplotlib import pyplot as plt \n",
        " \n",
        "# 1인당 국민소득 \n",
        "years = [1950, 1960, 1970, 1980, 1990, 2000, 2010] \n",
        "gdp = [67.0, 80.0, 257.0, 1686.0, 6505, 11865.3, 22105.3] \n",
        " \n",
        "plt.bar(range(len(years)), gdp) \n",
        " \n",
        "plt.title(\"GDP per capita\")   # 제목을 설정한다. \n",
        "plt.ylabel(\"dollars\")         # y축에 레이블를 붙인다. \n",
        " \n",
        "# y축에 틱을 붙인다. \n",
        "plt.xticks(range(len(years)), years) \n",
        "plt.show()\n"
      ],
      "execution_count": null,
      "outputs": [
        {
          "output_type": "display_data",
          "data": {
            "image/png": "[encoded data removed]",
            "text/plain": [
              "<Figure size 432x288 with 1 Axes>"
            ]
          },
          "metadata": {
            "tags": [],
            "needs_background": "light"
          }
        }
      ]
    },
    {
      "cell_type": "markdown",
      "metadata": {
        "id": "BpZ56q78FoNo"
      },
      "source": [
        "##  11.8 여러나라의 국민소득 추이를 다중 막대형 차트로 그리자\n"
      ]
    },
    {
      "cell_type": "code",
      "metadata": {
        "id": "Dc_Cum9qmLTB"
      },
      "source": [
        "# 1인당 국민소득\n",
        "years = [1965, 1975, 1985, 1995, 2005, 2015]\n",
        "ko = [130, 650, 2450, 11600, 17790, 27250]\n",
        "jp = [890, 5120, 11500, 42130, 40560, 38780]\n",
        "ch = [100, 200, 290, 540, 1760, 7940]\n"
      ],
      "execution_count": null,
      "outputs": []
    },
    {
      "cell_type": "code",
      "metadata": {
        "id": "ab6wgkjGmLrv",
        "outputId": "b137fb01-1afc-401b-c125-d43640d93cb6",
        "colab": {
          "base_uri": "https://localhost:8080/",
          "height": 282
        }
      },
      "source": [
        "x_range = range(len(years))\n",
        "plt.bar(x_range, ko, width = 0.25)\n",
        "plt.bar(x_range, jp, width = 0.25)\n",
        "plt.bar(x_range, ch, width = 0.25)\n"
      ],
      "execution_count": null,
      "outputs": [
        {
          "output_type": "execute_result",
          "data": {
            "text/plain": [
              "<BarContainer object of 6 artists>"
            ]
          },
          "metadata": {
            "tags": []
          },
          "execution_count": 10
        },
        {
          "output_type": "display_data",
          "data": {
            "image/png": "[encoded data removed]",
            "text/plain": [
              "<Figure size 432x288 with 1 Axes>"
            ]
          },
          "metadata": {
            "tags": [],
            "needs_background": "light"
          }
        }
      ]
    },
    {
      "cell_type": "code",
      "metadata": {
        "id": "MjdojIhHmIYo",
        "outputId": "0f578939-ba76-44f2-c558-aaad1f35d0eb",
        "colab": {
          "base_uri": "https://localhost:8080/",
          "height": 282
        }
      },
      "source": [
        "import numpy as np\n",
        "\n",
        "x_range = np.arange(len(years))\n",
        "plt.bar(x_range + 0.0, ko, width = 0.25)\n",
        "plt.bar(x_range + 0.3, jp, width = 0.25)\n",
        "plt.bar(x_range + 0.6, ch, width = 0.25)\n"
      ],
      "execution_count": null,
      "outputs": [
        {
          "output_type": "execute_result",
          "data": {
            "text/plain": [
              "<BarContainer object of 6 artists>"
            ]
          },
          "metadata": {
            "tags": []
          },
          "execution_count": 11
        },
        {
          "output_type": "display_data",
          "data": {
            "image/png": "[encoded data removed]",
            "text/plain": [
              "<Figure size 432x288 with 1 Axes>"
            ]
          },
          "metadata": {
            "tags": [],
            "needs_background": "light"
          }
        }
      ]
    },
    {
      "cell_type": "markdown",
      "metadata": {
        "id": "sYZf9wY-FtR3"
      },
      "source": [
        "## 11.9 데이터를 점으로 표현하는 산포도 그래프 그리기"
      ]
    },
    {
      "cell_type": "code",
      "metadata": {
        "id": "ZTKSaeBcmRve",
        "outputId": "f25c64dc-be82-4669-9f16-c55408ec736f",
        "colab": {
          "base_uri": "https://localhost:8080/",
          "height": 295
        }
      },
      "source": [
        "import matplotlib.pyplot as plt \n",
        "import numpy as np \n",
        " \n",
        "xData = np.arange(20, 50) \n",
        "yData = xData + 2*np.random.randn(30)   # xData에 randn() 함수로 잡음을 섞는다.\n",
        "                                        # 잡음은 정규분포로 만들어 질 것이다.\n",
        " \n",
        "plt.scatter(xData, yData) \n",
        "plt.title('Real Age vs Physical Age') \n",
        "plt.xlabel('Real Age') \n",
        "plt.ylabel('Physical Age') \n",
        " \n",
        "plt.savefig(\"kkk.png\", dpi=600); \n",
        "plt.show()\n"
      ],
      "execution_count": null,
      "outputs": [
        {
          "output_type": "display_data",
          "data": {
            "image/png": "[encoded data removed]",
            "text/plain": [
              "<Figure size 432x288 with 1 Axes>"
            ]
          },
          "metadata": {
            "tags": [],
            "needs_background": "light"
          }
        }
      ]
    },
    {
      "cell_type": "markdown",
      "metadata": {
        "id": "isHBE4a9FxX8"
      },
      "source": [
        "## 11.10 맛있는 피자가 생각나는 파이 차트"
      ]
    },
    {
      "cell_type": "code",
      "metadata": {
        "id": "nlWIiujbmVam"
      },
      "source": [
        "import matplotlib.pyplot as plt \n",
        "times = [8, 14, 2] \n"
      ],
      "execution_count": null,
      "outputs": []
    },
    {
      "cell_type": "code",
      "metadata": {
        "id": "cAdxoRQUmV4Z"
      },
      "source": [
        "timelabels = [\"Sleep\", \"Study\", \"Play\"]"
      ],
      "execution_count": null,
      "outputs": []
    },
    {
      "cell_type": "code",
      "metadata": {
        "id": "Cfoj1RQ7mVpp",
        "outputId": "51079095-10aa-4eac-88e1-5fa9638ec24f",
        "colab": {
          "base_uri": "https://localhost:8080/",
          "height": 248
        }
      },
      "source": [
        "# autopct로 백분율을 표시할 때 소수점 2번째 자리까지 표시하게 한다.\n",
        "# labels 매개 변수에 timelabels 리스트를 전달한다.\n",
        "plt.pie(times, labels = timelabels, autopct = \"%.2f\") \n",
        "plt.show() \n"
      ],
      "execution_count": null,
      "outputs": [
        {
          "output_type": "display_data",
          "data": {
            "image/png": "[encoded data removed]",
            "text/plain": [
              "<Figure size 432x288 with 1 Axes>"
            ]
          },
          "metadata": {
            "tags": []
          }
        }
      ]
    },
    {
      "cell_type": "code",
      "metadata": {
        "id": "bB7wQswLmcWZ",
        "outputId": "5dd5a8c8-6ec9-4ebe-d6bc-a19920e2b7f5",
        "colab": {
          "base_uri": "https://localhost:8080/",
          "height": 279
        }
      },
      "source": [
        "import matplotlib.pyplot as plt \n",
        " \n",
        "books = [ 1, 6, 2, 3, 1, 2, 0, 2 ] \n",
        "\n",
        "# 6개의 빈을 이용하여 books 안에 저장된 자료의 히스토그램 그리기\n",
        "plt.hist(books, bins = 6)   \n",
        "\n",
        "plt.xlabel(\"books\") \n",
        "plt.ylabel(\"frequency\") \n",
        "plt.show()\n"
      ],
      "execution_count": null,
      "outputs": [
        {
          "output_type": "display_data",
          "data": {
            "image/png": "[encoded data removed]",
            "text/plain": [
              "<Figure size 432x288 with 1 Axes>"
            ]
          },
          "metadata": {
            "tags": [],
            "needs_background": "light"
          }
        }
      ]
    },
    {
      "cell_type": "markdown",
      "metadata": {
        "id": "9n_pimQBF2SK"
      },
      "source": [
        "## 11.11 히스토그램으로 자료의 분포를 한눈에 보아요"
      ]
    },
    {
      "cell_type": "code",
      "metadata": {
        "id": "IaQ7ZqFuF4Kl"
      },
      "source": [
        "books = [ 1, 6, 2, 3, 1, 2, 0, 2 ] "
      ],
      "execution_count": null,
      "outputs": []
    },
    {
      "cell_type": "code",
      "metadata": {
        "id": "lQ_Ypi2pF4f6"
      },
      "source": [
        "import matplotlib.pyplot as plt \n",
        " \n",
        "books = [ 1, 6, 2, 3, 1, 2, 0, 2 ] \n",
        "\n",
        "# 6개의 빈을 이용하여 books 안에 저장된 자료의 히스토그램 그리기\n",
        "plt.hist(books, bins = 6)  \n",
        "\n",
        "plt.xlabel(\"books\") \n",
        "plt.ylabel(\"frequency\") \n",
        "plt.show()"
      ],
      "execution_count": null,
      "outputs": []
    },
    {
      "cell_type": "markdown",
      "metadata": {
        "id": "RhLn1Db6GAqH"
      },
      "source": [
        "## 11.12 겹쳐진 히스토그램도 그리자 : 다중 히스토그램"
      ]
    },
    {
      "cell_type": "code",
      "metadata": {
        "id": "icYAZPKEmf3v",
        "outputId": "191d3901-d136-491e-cf73-55c228c8a006",
        "colab": {
          "base_uri": "https://localhost:8080/",
          "height": 265
        }
      },
      "source": [
        "import numpy as np \n",
        "import matplotlib.pyplot as plt \n",
        " \n",
        "n_bins = 10 \n",
        "x = np.random.randn(1000) \n",
        "y = np.random.randn(1000) \n",
        " \n",
        "plt.hist(x, n_bins, histtype='bar', color= \"red\"); \n",
        "plt.hist(y, n_bins, histtype='bar', color= \"blue\", alpha=0.3); \n",
        "plt.show()\n"
      ],
      "execution_count": null,
      "outputs": [
        {
          "output_type": "display_data",
          "data": {
            "image/png": "[encoded data removed]",
            "text/plain": [
              "<Figure size 432x288 with 1 Axes>"
            ]
          },
          "metadata": {
            "tags": [],
            "needs_background": "light"
          }
        }
      ]
    },
    {
      "cell_type": "code",
      "metadata": {
        "id": "I-ZhqXdGmiRF",
        "outputId": "953977f5-7408-4672-95e6-e9727ca49e3f",
        "colab": {
          "base_uri": "https://localhost:8080/",
          "height": 265
        }
      },
      "source": [
        "import matplotlib.pyplot as plt \n",
        " \n",
        "x = [1, 2, 3, 4, 5, 6, 7, 8, 9, 10]\n",
        "plt.hist(x)\n",
        "plt.show()\n"
      ],
      "execution_count": null,
      "outputs": [
        {
          "output_type": "display_data",
          "data": {
            "image/png": "[encoded data removed]",
            "text/plain": [
              "<Figure size 432x288 with 1 Axes>"
            ]
          },
          "metadata": {
            "tags": [],
            "needs_background": "light"
          }
        }
      ]
    },
    {
      "cell_type": "markdown",
      "metadata": {
        "id": "_kHdDcynGD3-"
      },
      "source": [
        " \n",
        "##LAB11-3\n",
        "##정규분포로 생성된 난수를 눈으로 확인하기\n"
      ]
    },
    {
      "cell_type": "code",
      "metadata": {
        "id": "I7B_JdECmlm0",
        "outputId": "852b3cc0-9742-4630-cfa8-677fc1b937ff",
        "colab": {
          "base_uri": "https://localhost:8080/",
          "height": 374
        }
      },
      "source": [
        "import numpy as np \n",
        "import matplotlib.pyplot as plt \n",
        " \n",
        "mu1, sigma1 = 10, 2\n",
        "mu2, sigma2 = -6, 3\n",
        "\n",
        "standard_Gauss = np.random.randn(10000)\n",
        "Gauss1 = mu1 + sigma1 * np.random.randn(10000)\n",
        "Gauss2 = mu2 + sigma2 * np.random.randn(10000) \n",
        "\n",
        "plt.figure(figsize=(10,6)) \n",
        "plt.hist(standard_Gauss, bins=50, alpha=0.4) \n",
        "plt.hist(Gauss1, bins=50, alpha=0.4)\n",
        "plt.hist(Gauss2, bins=50, alpha=0.4)\n",
        "\n",
        "plt.show()\n"
      ],
      "execution_count": null,
      "outputs": [
        {
          "output_type": "display_data",
          "data": {
            "image/png": "[encoded data removed]",
            "text/plain": [
              "<Figure size 720x432 with 1 Axes>"
            ]
          },
          "metadata": {
            "tags": [],
            "needs_background": "light"
          }
        }
      ]
    },
    {
      "cell_type": "markdown",
      "metadata": {
        "id": "t72o6XQIGK8F"
      },
      "source": [
        "## 11.13 데이터를 효율적으로 표현하는 상자 차트를 알아보자"
      ]
    },
    {
      "cell_type": "code",
      "metadata": {
        "id": "G1Qy4dBYmpVk"
      },
      "source": [
        "import numpy as np\n",
        "import matplotlib.pyplot as plt\n",
        "\n",
        "random_data = np.random.randn(100)\n"
      ],
      "execution_count": null,
      "outputs": []
    },
    {
      "cell_type": "code",
      "metadata": {
        "id": "hojGxABmmpHz",
        "outputId": "b0d21dc6-33c3-4883-8be2-a4ffeac6e2e1",
        "colab": {
          "base_uri": "https://localhost:8080/",
          "height": 265
        }
      },
      "source": [
        "plt.boxplot(random_data)\n",
        "plt.show()\n"
      ],
      "execution_count": null,
      "outputs": [
        {
          "output_type": "display_data",
          "data": {
            "image/png": "[encoded data removed]",
            "text/plain": [
              "<Figure size 432x288 with 1 Axes>"
            ]
          },
          "metadata": {
            "tags": [],
            "needs_background": "light"
          }
        }
      ]
    },
    {
      "cell_type": "markdown",
      "metadata": {
        "id": "EZxffTHKGNMx"
      },
      "source": [
        "## 11.14 여러 개의 상자 차트 그리기"
      ]
    },
    {
      "cell_type": "code",
      "metadata": {
        "id": "1HaZfRtUmuNA"
      },
      "source": [
        "import numpy as np\n",
        "import matplotlib.pyplot as plt\n",
        "data1 = [1, 2, 3, 4, 5]\n",
        "data2 = [2, 3, 4, 5, 6]\n"
      ],
      "execution_count": null,
      "outputs": []
    },
    {
      "cell_type": "code",
      "metadata": {
        "id": "Zc9F-GpUmudN",
        "outputId": "261f54ee-b410-427e-fea0-83f1da13dff5",
        "colab": {
          "base_uri": "https://localhost:8080/",
          "height": 527
        }
      },
      "source": [
        "plt.boxplot([ data1, data2 ] )"
      ],
      "execution_count": null,
      "outputs": [
        {
          "output_type": "execute_result",
          "data": {
            "text/plain": [
              "{'boxes': [<matplotlib.lines.Line2D at 0x7f37ad8881d0>,\n",
              "  <matplotlib.lines.Line2D at 0x7f37ad8739e8>],\n",
              " 'caps': [<matplotlib.lines.Line2D at 0x7f37ad888be0>,\n",
              "  <matplotlib.lines.Line2D at 0x7f37ad888f60>,\n",
              "  <matplotlib.lines.Line2D at 0x7f37ad8714e0>,\n",
              "  <matplotlib.lines.Line2D at 0x7f37ad871860>],\n",
              " 'fliers': [<matplotlib.lines.Line2D at 0x7f37ad8736a0>,\n",
              "  <matplotlib.lines.Line2D at 0x7f37ad871f60>],\n",
              " 'means': [],\n",
              " 'medians': [<matplotlib.lines.Line2D at 0x7f37ad873320>,\n",
              "  <matplotlib.lines.Line2D at 0x7f37ad871be0>],\n",
              " 'whiskers': [<matplotlib.lines.Line2D at 0x7f37ad8884e0>,\n",
              "  <matplotlib.lines.Line2D at 0x7f37ad888860>,\n",
              "  <matplotlib.lines.Line2D at 0x7f37ad873da0>,\n",
              "  <matplotlib.lines.Line2D at 0x7f37ad871160>]}"
            ]
          },
          "metadata": {
            "tags": []
          },
          "execution_count": 23
        },
        {
          "output_type": "display_data",
          "data": {
            "image/png": "[encoded data removed]",
            "text/plain": [
              "<Figure size 432x288 with 1 Axes>"
            ]
          },
          "metadata": {
            "tags": [],
            "needs_background": "light"
          }
        }
      ]
    },
    {
      "cell_type": "code",
      "metadata": {
        "id": "9rr9k9dKmxLh",
        "outputId": "bd855c3a-f3e4-4544-a58d-781ddbd1ad58",
        "colab": {
          "base_uri": "https://localhost:8080/",
          "height": 895
        }
      },
      "source": [
        "plt.boxplot(np.array([ data1, data2 ]) )"
      ],
      "execution_count": null,
      "outputs": [
        {
          "output_type": "execute_result",
          "data": {
            "text/plain": [
              "{'boxes': [<matplotlib.lines.Line2D at 0x7f37adcdb390>,\n",
              "  <matplotlib.lines.Line2D at 0x7f37adc9aba8>,\n",
              "  <matplotlib.lines.Line2D at 0x7f37adcb64a8>,\n",
              "  <matplotlib.lines.Line2D at 0x7f37adcd0d68>,\n",
              "  <matplotlib.lines.Line2D at 0x7f37ad949668>],\n",
              " 'caps': [<matplotlib.lines.Line2D at 0x7f37adcdbda0>,\n",
              "  <matplotlib.lines.Line2D at 0x7f37adc9a160>,\n",
              "  <matplotlib.lines.Line2D at 0x7f37adcc46a0>,\n",
              "  <matplotlib.lines.Line2D at 0x7f37adcc4a20>,\n",
              "  <matplotlib.lines.Line2D at 0x7f37adcb6f60>,\n",
              "  <matplotlib.lines.Line2D at 0x7f37adcd0320>,\n",
              "  <matplotlib.lines.Line2D at 0x7f37ad938860>,\n",
              "  <matplotlib.lines.Line2D at 0x7f37ad938be0>,\n",
              "  <matplotlib.lines.Line2D at 0x7f37ad936160>,\n",
              "  <matplotlib.lines.Line2D at 0x7f37ad9364e0>],\n",
              " 'fliers': [<matplotlib.lines.Line2D at 0x7f37adc9a860>,\n",
              "  <matplotlib.lines.Line2D at 0x7f37adcb6160>,\n",
              "  <matplotlib.lines.Line2D at 0x7f37adcd0a20>,\n",
              "  <matplotlib.lines.Line2D at 0x7f37ad949320>,\n",
              "  <matplotlib.lines.Line2D at 0x7f37ad936be0>],\n",
              " 'means': [],\n",
              " 'medians': [<matplotlib.lines.Line2D at 0x7f37adc9a4e0>,\n",
              "  <matplotlib.lines.Line2D at 0x7f37adcc4da0>,\n",
              "  <matplotlib.lines.Line2D at 0x7f37adcd06a0>,\n",
              "  <matplotlib.lines.Line2D at 0x7f37ad938f60>,\n",
              "  <matplotlib.lines.Line2D at 0x7f37ad936860>],\n",
              " 'whiskers': [<matplotlib.lines.Line2D at 0x7f37adcdb6a0>,\n",
              "  <matplotlib.lines.Line2D at 0x7f37adcdba20>,\n",
              "  <matplotlib.lines.Line2D at 0x7f37adc9af60>,\n",
              "  <matplotlib.lines.Line2D at 0x7f37adcc4320>,\n",
              "  <matplotlib.lines.Line2D at 0x7f37adcb6860>,\n",
              "  <matplotlib.lines.Line2D at 0x7f37adcb6be0>,\n",
              "  <matplotlib.lines.Line2D at 0x7f37ad938160>,\n",
              "  <matplotlib.lines.Line2D at 0x7f37ad9384e0>,\n",
              "  <matplotlib.lines.Line2D at 0x7f37ad949a20>,\n",
              "  <matplotlib.lines.Line2D at 0x7f37ad949da0>]}"
            ]
          },
          "metadata": {
            "tags": []
          },
          "execution_count": 24
        },
        {
          "output_type": "display_data",
          "data": {
            "image/png": "[encoded data removed]",
            "text/plain": [
              "<Figure size 432x288 with 1 Axes>"
            ]
          },
          "metadata": {
            "tags": [],
            "needs_background": "light"
          }
        }
      ]
    },
    {
      "cell_type": "markdown",
      "metadata": {
        "id": "JxyzyizoGRxr"
      },
      "source": [
        "## 11.15 한 화면에 여러 그래프 그리기 : subplots()"
      ]
    },
    {
      "cell_type": "code",
      "metadata": {
        "id": "V0SRNx13E8Ee",
        "outputId": "6200726b-37d9-4545-faf8-215188a81c5c",
        "colab": {
          "base_uri": "https://localhost:8080/",
          "height": 320
        }
      },
      "source": [
        "import matplotlib.pyplot as plt\n",
        "\n",
        "fig, ax = plt.subplots(2, 2, figsize=(5, 5))\n",
        "\n",
        "ax[0, 0].plot(range(10), 'r') #row=0, col=0\n",
        "ax[1, 0].plot(range(10), 'b') #row=1, col=0\n",
        "ax[0, 1].plot(range(10), 'g') #row=0, col=1\n",
        "ax[1, 1].plot(range(10), 'k') #row=1, col=1\n",
        "plt.show()"
      ],
      "execution_count": null,
      "outputs": [
        {
          "output_type": "display_data",
          "data": {
            "image/png": "[encoded data removed]",
            "text/plain": [
              "<Figure size 360x360 with 4 Axes>"
            ]
          },
          "metadata": {
            "tags": [],
            "needs_background": "light"
          }
        }
      ]
    },
    {
      "cell_type": "code",
      "metadata": {
        "id": "wN02kefAm1pf",
        "outputId": "66104bc0-2e44-4460-8e21-5fe659fde800",
        "colab": {
          "base_uri": "https://localhost:8080/",
          "height": 269
        }
      },
      "source": [
        "fig = plt.figure()\n",
        "ax1 = fig.add_subplot(2, 2, 1)\n",
        "ax2 = fig.add_subplot(2, 2, 2)\n",
        "ax3 = fig.add_subplot(2, 2, 3)\n",
        "ax4 = fig.add_subplot(2, 2, 4)\n"
      ],
      "execution_count": null,
      "outputs": [
        {
          "output_type": "display_data",
          "data": {
            "image/png": "[encoded data removed]",
            "text/plain": [
              "<Figure size 432x288 with 4 Axes>"
            ]
          },
          "metadata": {
            "tags": [],
            "needs_background": "light"
          }
        }
      ]
    },
    {
      "cell_type": "markdown",
      "metadata": {
        "id": "zd1gqgT7GU6I"
      },
      "source": [
        " \n",
        "## LAB11-4\n",
        "## 서브플롯 이용해 보기\n"
      ]
    },
    {
      "cell_type": "code",
      "metadata": {
        "id": "PedMb-0ym_yT",
        "outputId": "cfed1e16-c18e-4377-b669-a6821a303bab",
        "colab": {
          "base_uri": "https://localhost:8080/",
          "height": 322
        }
      },
      "source": [
        "import matplotlib.pyplot as plt \n",
        "import numpy as np \n",
        " \n",
        "np.random.seed(19680801) \n",
        "data = np.random.randn(2, 100) \n",
        " \n",
        "fig, axs = plt.subplots(2, 2, figsize=(5, 5)) \n",
        "\n",
        "axs[0, 0].hist(data[0]) \n",
        "axs[1, 0].scatter(data[0], data[1]) \n",
        "axs[0, 1].plot(data[0], data[1]) \n",
        "axs[1, 1].hist2d(data[0], data[1]) \n",
        " \n",
        "plt.show()\n"
      ],
      "execution_count": null,
      "outputs": [
        {
          "output_type": "display_data",
          "data": {
            "image/png": "[encoded data removed]",
            "text/plain": [
              "<Figure size 360x360 with 4 Axes>"
            ]
          },
          "metadata": {
            "tags": [],
            "needs_background": "light"
          }
        }
      ]
    }
  ]
}