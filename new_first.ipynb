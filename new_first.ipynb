{
  "nbformat": 4,
  "nbformat_minor": 0,
  "metadata": {
    "colab": {
      "private_outputs": true,
      "provenance": [],
      "authorship_tag": "ABX9TyNt6fAMD3O7msdinsz+/hET",
      "include_colab_link": true
    },
    "kernelspec": {
      "name": "python3",
      "display_name": "Python 3"
    },
    "language_info": {
      "name": "python"
    },
    "accelerator": "GPU",
    "gpuClass": "standard"
  },
  "cells": [
    {
      "cell_type": "markdown",
      "metadata": {
        "id": "view-in-github",
        "colab_type": "text"
      },
      "source": [
        "<a href=\"https://colab.research.google.com/github/yoon-hyosun/SW/blob/main/new_first.ipynb\" target=\"_parent\"><img src=\"https://colab.research.google.com/assets/colab-badge.svg\" alt=\"Open In Colab\"/></a>"
      ]
    },
    {
      "cell_type": "code",
      "execution_count": null,
      "metadata": {
        "id": "FpIMlMPpFRFU"
      },
      "outputs": [],
      "source": [
        "import platform\n",
        "platform.platform()"
      ]
    },
    {
      "cell_type": "code",
      "source": [
        "!cat /etc/issue.net"
      ],
      "metadata": {
        "id": "sc5ywVcTSlIS"
      },
      "execution_count": null,
      "outputs": []
    },
    {
      "cell_type": "markdown",
      "source": [
        "**cpu 사양**\n",
        "\n",
        "\n",
        "\n"
      ],
      "metadata": {
        "id": "f44sAfezTTgR"
      }
    },
    {
      "cell_type": "code",
      "source": [
        "!cat /proc/cpuinfo"
      ],
      "metadata": {
        "id": "IEmumiEBTias"
      },
      "execution_count": null,
      "outputs": []
    },
    {
      "cell_type": "markdown",
      "source": [
        "**메모리** **사양**\n"
      ],
      "metadata": {
        "id": "zXcYUyJgUChQ"
      }
    },
    {
      "cell_type": "code",
      "source": [
        "!cat /proc/meminfo"
      ],
      "metadata": {
        "id": "bUxuW754U869"
      },
      "execution_count": null,
      "outputs": []
    },
    {
      "cell_type": "markdown",
      "source": [
        "**디스크** **사양**"
      ],
      "metadata": {
        "id": "K8uGggp1VUeo"
      }
    },
    {
      "cell_type": "code",
      "source": [
        "!df -h"
      ],
      "metadata": {
        "id": "1VCiphRvVZeK"
      },
      "execution_count": null,
      "outputs": []
    },
    {
      "cell_type": "markdown",
      "source": [
        "**파이썬버젼젼**"
      ],
      "metadata": {
        "id": "3JzvaV_qVw82"
      }
    },
    {
      "cell_type": "code",
      "source": [
        "!python --version"
      ],
      "metadata": {
        "id": "S8fuv4nEV4YM"
      },
      "execution_count": null,
      "outputs": []
    },
    {
      "cell_type": "markdown",
      "source": [
        "Google Colab 런타임\n",
        "\n",
        "*   colab에서 고성능 하드웨어로 GPU나 TPU사용 가능능\n",
        "*   런타인 유형 변경 필요 \n",
        "     \n",
        "\n",
        "*   None : CPU만 사용\n",
        "*   GPU  : Graphics Processing Unit\n",
        "    GPU는 연산 장치(ALU)의 구조가 단순하고, 작은 제어/캐시 영역을 가집니다. 그리고 다수의 코어로 이루어져 있습니다.\n",
        "    이러한 구조적인 특징으로 인해, 여러 개의 코어를 동시에 병렬로 작동시켜 부동 소수점 연산 등 특정 단순 계산을 빠르게 할 수 있습니다.그렇기에 다량의 병렬연산이 필요한 3D 렌더링이나, 딥러닝, 블록체인 등에 GPU가 사용되고 있으며 연산을 가속해주기에 '가속기'라는 명칭으로 불리기도 합니다.\n",
        "\n",
        "*   Cloud 텐서 처리 장치(TPU) :\n",
        " Google에서 맞춤 개발한 ASIC(Application-Specific Integrated Circuits)로서 머신러닝 워크로드를 빠르게 처리하는 데 사용\n",
        "\n",
        "\n",
        "\n",
        "\n",
        "\n",
        "\n",
        "\n",
        "\n",
        "\n",
        "\n",
        "\n",
        "\n"
      ],
      "metadata": {
        "id": "TqQBN-rSWijd"
      }
    },
    {
      "cell_type": "markdown",
      "source": [
        "어떤 GPU가 사용되었는지 확인해 볼까?\n"
      ],
      "metadata": {
        "id": "wW46IBscbWSz"
      }
    },
    {
      "cell_type": "code",
      "source": [
        "!nvidia-smi"
      ],
      "metadata": {
        "id": "HsS335Ulbc9i"
      },
      "execution_count": null,
      "outputs": []
    },
    {
      "cell_type": "code",
      "source": [
        "%%writefile test.txt\n",
        "hello word\n",
        "yoon"
      ],
      "metadata": {
        "id": "6opOSSGZchZ3"
      },
      "execution_count": null,
      "outputs": []
    },
    {
      "cell_type": "code",
      "source": [
        "!cat test.txt"
      ],
      "metadata": {
        "id": "dCk8JPoYdC7j"
      },
      "execution_count": null,
      "outputs": []
    },
    {
      "cell_type": "code",
      "source": [
        "from google.colab import files\n",
        "files.download('test.txt')"
      ],
      "metadata": {
        "id": "ftNkLlHNfL0Y"
      },
      "execution_count": null,
      "outputs": []
    },
    {
      "cell_type": "markdown",
      "source": [
        "# 새 섹션"
      ],
      "metadata": {
        "id": "fpjP5KlvfpHg"
      }
    },
    {
      "cell_type": "code",
      "source": [
        "upload = files.upload()"
      ],
      "metadata": {
        "id": "BO3MlaI5jYBs"
      },
      "execution_count": null,
      "outputs": []
    },
    {
      "cell_type": "code",
      "source": [
        "!ls"
      ],
      "metadata": {
        "id": "9YwMDQ0lmOlo"
      },
      "execution_count": null,
      "outputs": []
    },
    {
      "cell_type": "code",
      "source": [
        "from google.colab import drive\n",
        "drive.mount('/content/drive')"
      ],
      "metadata": {
        "id": "HxW00_23rPug"
      },
      "execution_count": null,
      "outputs": []
    },
    {
      "cell_type": "code",
      "source": [
        "!ls /content/drive"
      ],
      "metadata": {
        "id": "5i2BNyLetPVL"
      },
      "execution_count": null,
      "outputs": []
    },
    {
      "cell_type": "code",
      "source": [
        "pwd"
      ],
      "metadata": {
        "id": "Fd1F_EvluJqP"
      },
      "execution_count": null,
      "outputs": []
    },
    {
      "cell_type": "code",
      "source": [
        "import pandas as pd\n",
        "df = pd.DataFrame( {\"a\" : [4,5,6],\n",
        "                    \"b\" : [7,8,9],\n",
        "                    \"c\" :[10,11,12]},\n",
        "                  index = [1,2,3])\n",
        "df"
      ],
      "metadata": {
        "id": "UUt3vtrLwdPk"
      },
      "execution_count": null,
      "outputs": []
    },
    {
      "cell_type": "code",
      "source": [
        "df.to_csv('testcsv.csv')"
      ],
      "metadata": {
        "id": "NV7RcUA7xIxj"
      },
      "execution_count": null,
      "outputs": []
    },
    {
      "cell_type": "code",
      "source": [
        "df2=pd.read_csv('/content/testcsv.csv')\n",
        "df2"
      ],
      "metadata": {
        "id": "M3cc4-_Iyabd"
      },
      "execution_count": null,
      "outputs": []
    },
    {
      "cell_type": "code",
      "source": [
        "df3 = pd.read_csv('./testcsv.csv')\n",
        "df3"
      ],
      "metadata": {
        "id": "PASP27vIyrY0"
      },
      "execution_count": null,
      "outputs": []
    },
    {
      "cell_type": "code",
      "source": [
        "help(min)"
      ],
      "metadata": {
        "id": "ubbmU22B1fN5"
      },
      "execution_count": null,
      "outputs": []
    },
    {
      "cell_type": "code",
      "source": [
        "min?"
      ],
      "metadata": {
        "id": "GEhLhIBv1j1I"
      },
      "execution_count": null,
      "outputs": []
    },
    {
      "cell_type": "code",
      "source": [
        "def power(b,n):\n",
        "    \"\"\"b의 n승을 반환\"\"\"\n",
        "    return pow(b,n)\n",
        "\n",
        "power(2,4)    "
      ],
      "metadata": {
        "id": "OSrjgHqV28uN"
      },
      "execution_count": null,
      "outputs": []
    },
    {
      "cell_type": "code",
      "source": [
        "power?"
      ],
      "metadata": {
        "id": "RRYN899w3PLW"
      },
      "execution_count": null,
      "outputs": []
    },
    {
      "cell_type": "code",
      "source": [
        "power??"
      ],
      "metadata": {
        "id": "mOR8FTK13ssv"
      },
      "execution_count": null,
      "outputs": []
    },
    {
      "cell_type": "code",
      "source": [
        "%%writefile test.py\n",
        "print(\"hello yoon\")\n",
        "print(\"chonnam\")\n",
        "print(\"korea\")"
      ],
      "metadata": {
        "id": "v1aBePQu8uvY"
      },
      "execution_count": null,
      "outputs": []
    },
    {
      "cell_type": "code",
      "source": [
        "%run test.py"
      ],
      "metadata": {
        "id": "G1sTY6iR9GAe"
      },
      "execution_count": null,
      "outputs": []
    },
    {
      "cell_type": "code",
      "source": [
        "%timeit li = [n**n for n in range(1000)]"
      ],
      "metadata": {
        "id": "QSU3ZQNzBQoS"
      },
      "execution_count": null,
      "outputs": []
    },
    {
      "cell_type": "code",
      "source": [
        "%%timeit\n",
        "li2 =[]\n",
        "for n in range(1000):\n",
        "    li2.append(n**n)"
      ],
      "metadata": {
        "id": "3xdj04JGBb_I"
      },
      "execution_count": null,
      "outputs": []
    },
    {
      "cell_type": "code",
      "source": [
        "In"
      ],
      "metadata": {
        "id": "Ll4OFXzRC2rQ"
      },
      "execution_count": null,
      "outputs": []
    },
    {
      "cell_type": "code",
      "source": [
        "In[15]"
      ],
      "metadata": {
        "id": "2Js1wXiQCnN_"
      },
      "execution_count": null,
      "outputs": []
    },
    {
      "cell_type": "code",
      "source": [
        "Out[15]"
      ],
      "metadata": {
        "id": "mSuFYZmKCxKX"
      },
      "execution_count": null,
      "outputs": []
    },
    {
      "cell_type": "code",
      "source": [
        "print(_)"
      ],
      "metadata": {
        "id": "rLMsUe-KDvMi"
      },
      "execution_count": null,
      "outputs": []
    },
    {
      "cell_type": "code",
      "source": [
        "print(__)"
      ],
      "metadata": {
        "id": "9Gup270TV3Ih"
      },
      "execution_count": null,
      "outputs": []
    },
    {
      "cell_type": "code",
      "source": [
        "print(___)"
      ],
      "metadata": {
        "id": "3MdKL4ooV8cO"
      },
      "execution_count": null,
      "outputs": []
    },
    {
      "cell_type": "code",
      "source": [
        "%history -n 1-7"
      ],
      "metadata": {
        "id": "oXW3jeFA-3iC"
      },
      "execution_count": null,
      "outputs": []
    },
    {
      "cell_type": "code",
      "source": [
        "%rerun"
      ],
      "metadata": {
        "id": "YrOzAGac_pu-"
      },
      "execution_count": null,
      "outputs": []
    },
    {
      "cell_type": "code",
      "source": [
        "!ls"
      ],
      "metadata": {
        "id": "T0VbNR1UA0TS"
      },
      "execution_count": null,
      "outputs": []
    },
    {
      "cell_type": "code",
      "source": [
        "!pwd"
      ],
      "metadata": {
        "id": "TQzDMyMCA_29"
      },
      "execution_count": null,
      "outputs": []
    },
    {
      "cell_type": "code",
      "source": [
        "!cd sample_data/ &&ls"
      ],
      "metadata": {
        "id": "Q_s1V2EaBh1h"
      },
      "execution_count": null,
      "outputs": []
    },
    {
      "cell_type": "code",
      "source": [
        "!cd sample_data/"
      ],
      "metadata": {
        "id": "Rw_aRYo7CGeM"
      },
      "execution_count": null,
      "outputs": []
    },
    {
      "cell_type": "code",
      "source": [
        "cd ."
      ],
      "metadata": {
        "id": "9ke1FfT_CV8v"
      },
      "execution_count": null,
      "outputs": []
    },
    {
      "cell_type": "code",
      "source": [
        "!mkdir temp"
      ],
      "metadata": {
        "id": "gChdBuf6DVCI"
      },
      "execution_count": null,
      "outputs": []
    },
    {
      "cell_type": "code",
      "source": [
        "!ls"
      ],
      "metadata": {
        "id": "dcnv1eIRDZsh"
      },
      "execution_count": null,
      "outputs": []
    },
    {
      "cell_type": "code",
      "source": [
        "!cat test.py"
      ],
      "metadata": {
        "id": "IBYBH8LCDs5g"
      },
      "execution_count": null,
      "outputs": []
    },
    {
      "cell_type": "code",
      "source": [
        "!cp test.py temp/"
      ],
      "metadata": {
        "id": "vsnC5FB8FcGY"
      },
      "execution_count": null,
      "outputs": []
    },
    {
      "cell_type": "code",
      "source": [
        "!ls temp"
      ],
      "metadata": {
        "id": "UJc0WUs8FkCr"
      },
      "execution_count": null,
      "outputs": []
    },
    {
      "cell_type": "code",
      "source": [
        "!rm temp/test.py"
      ],
      "metadata": {
        "id": "tQLLh2YBF52S"
      },
      "execution_count": null,
      "outputs": []
    },
    {
      "cell_type": "code",
      "source": [
        "!ls temp"
      ],
      "metadata": {
        "id": "3R3AmJqQGDJl"
      },
      "execution_count": null,
      "outputs": []
    },
    {
      "cell_type": "code",
      "source": [
        "!rm -r temp"
      ],
      "metadata": {
        "id": "1JruOjcrGJgD"
      },
      "execution_count": null,
      "outputs": []
    },
    {
      "cell_type": "markdown",
      "source": [
        "#heading1\n",
        "##heading2\n",
        "###heading3\n",
        "####heading4\n",
        "#####heading5"
      ],
      "metadata": {
        "id": "-wEtDvB2HXam"
      }
    },
    {
      "cell_type": "markdown",
      "source": [
        "\n",
        "\n",
        "# 1.   first\n",
        "2.   second\n",
        "3.   third\n",
        "    *   one\n",
        "    *   two\n",
        "    + three\n",
        "    - four\n",
        "    \n",
        "\n",
        "\n",
        "\n",
        "*   1단계\n",
        "*   2단계\n",
        "* 3단계\n",
        "\n",
        "\n",
        "\n"
      ],
      "metadata": {
        "id": "lqFmCVjVULy3"
      }
    },
    {
      "cell_type": "markdown",
      "source": [
        "**korea**  \n",
        "__korea__\n",
        "*italic*\n",
        "_italic_\n",
        "\n",
        "~~korea~~ 틸트\n",
        "<u>korea</u><br>\n",
        "korea \n",
        "\n",
        "apple  \n",
        "orange\n"
      ],
      "metadata": {
        "id": "q6jWaIOYXYye"
      }
    },
    {
      "cell_type": "markdown",
      "source": [
        ">인용구\n",
        ">>인용구\n",
        ">>>인용구\n"
      ],
      "metadata": {
        "id": "GzyzKGVbbY3Z"
      }
    },
    {
      "cell_type": "markdown",
      "source": [
        "링크하는 방법\n",
        "[전남대학교](https://www.chonnam.ac.kr)"
      ],
      "metadata": {
        "id": "kjBP4yt1cN4P"
      }
    },
    {
      "cell_type": "markdown",
      "source": [
        "---\n",
        "***\n",
        "<hr>"
      ],
      "metadata": {
        "id": "8UOZ-9qLdmrz"
      }
    },
    {
      "cell_type": "markdown",
      "source": [
        "| first      |second       | third     |  \n",
        "|---         |---          |---        |\n",
        "|apple      |orange                    |  \n",
        "|            banana                    |"
      ],
      "metadata": {
        "id": "w9RfKo2_eRXb"
      }
    },
    {
      "cell_type": "markdown",
      "source": [
        "`한줄 코드`  \n",
        "```  one    \n",
        "two\n",
        "\n",
        "\n",
        "three   \n",
        "```\n",
        "\n",
        "\n",
        "\n",
        "```python  \n",
        "a=10  \n",
        "b=5  \n",
        "sum = a+b   \n",
        "print(sum)   \n",
        "for i in range(5):  \n",
        "    print(i)\n",
        "\n",
        "\n",
        "```"
      ],
      "metadata": {
        "id": "87a02nZ9giPK"
      }
    },
    {
      "cell_type": "code",
      "source": [
        "print(\"korea\")"
      ],
      "metadata": {
        "id": "tXXesShcmAof"
      },
      "execution_count": null,
      "outputs": []
    },
    {
      "cell_type": "code",
      "source": [
        "print(\"korea\")"
      ],
      "metadata": {
        "id": "fJS9UWIGmFem"
      },
      "execution_count": null,
      "outputs": []
    },
    {
      "cell_type": "code",
      "source": [
        "print(\"appl\")"
      ],
      "metadata": {
        "id": "R12V1e5tmKM0"
      },
      "execution_count": null,
      "outputs": []
    },
    {
      "cell_type": "code",
      "source": [],
      "metadata": {
        "id": "Cex4ahlbmNcm"
      },
      "execution_count": null,
      "outputs": []
    }
  ]
}