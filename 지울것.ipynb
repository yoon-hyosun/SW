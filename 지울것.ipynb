{
  "nbformat": 4,
  "nbformat_minor": 0,
  "metadata": {
    "colab": {
      "private_outputs": true,
      "provenance": [],
      "authorship_tag": "ABX9TyN1XlOLsUggFrk0BEZn6xdz",
      "include_colab_link": true
    },
    "kernelspec": {
      "name": "python3",
      "display_name": "Python 3"
    },
    "language_info": {
      "name": "python"
    }
  },
  "cells": [
    {
      "cell_type": "markdown",
      "metadata": {
        "id": "view-in-github",
        "colab_type": "text"
      },
      "source": [
        "<a href=\"https://colab.research.google.com/github/yoon-hyosun/SW/blob/main/%EC%A7%80%EC%9A%B8%EA%B2%83.ipynb\" target=\"_parent\"><img src=\"https://colab.research.google.com/assets/colab-badge.svg\" alt=\"Open In Colab\"/></a>"
      ]
    },
    {
      "cell_type": "code",
      "execution_count": null,
      "metadata": {
        "id": "KrCk8goe-M4P"
      },
      "outputs": [],
      "source": [
        "from google.colab import drive\n",
        "drive.mount('/content/drive')"
      ]
    },
    {
      "cell_type": "code",
      "source": [
        "!pwd"
      ],
      "metadata": {
        "id": "CsdceGooAXBp"
      },
      "execution_count": null,
      "outputs": []
    },
    {
      "cell_type": "code",
      "source": [
        "%%writefile test.txt\n",
        "hello\n",
        "korea\n",
        "apple\n",
        "orange"
      ],
      "metadata": {
        "id": "avCdztBeADLb"
      },
      "execution_count": null,
      "outputs": []
    },
    {
      "cell_type": "code",
      "source": [
        "!cat test.txt"
      ],
      "metadata": {
        "id": "fpXo90m_AMe3"
      },
      "execution_count": null,
      "outputs": []
    },
    {
      "cell_type": "code",
      "source": [
        "from google.colab import files\n",
        "files.download('test.txt')"
      ],
      "metadata": {
        "id": "kueszT3iAwWA"
      },
      "execution_count": null,
      "outputs": []
    },
    {
      "cell_type": "code",
      "source": [
        "upload = files.upload()"
      ],
      "metadata": {
        "id": "yOyP6huqB0fz"
      },
      "execution_count": null,
      "outputs": []
    },
    {
      "cell_type": "code",
      "source": [
        "!ls"
      ],
      "metadata": {
        "id": "5kpYMboVB-2A"
      },
      "execution_count": null,
      "outputs": []
    },
    {
      "cell_type": "code",
      "source": [
        "import pandas as pd\n",
        "df = pd.DataFrame({\"a\":[1,2,3],\n",
        "                   \"b\":[4,5,6],\n",
        "                   \"c\":[7,8,9]},\n",
        "                  index=[1,2,3])\n",
        "print(df)\n",
        "df.to_csv('test.csv')\n",
        "!cat test.csv\n",
        "!ls"
      ],
      "metadata": {
        "id": "UJrtOsYEC_RU"
      },
      "execution_count": null,
      "outputs": []
    },
    {
      "cell_type": "code",
      "source": [
        "cat?"
      ],
      "metadata": {
        "id": "o2HXreg0DlNz"
      },
      "execution_count": null,
      "outputs": []
    },
    {
      "cell_type": "code",
      "source": [
        "min?"
      ],
      "metadata": {
        "id": "OrjIA5PcEy9l"
      },
      "execution_count": null,
      "outputs": []
    },
    {
      "cell_type": "code",
      "source": [
        "!cd sample_data/\n",
        "!ls\n"
      ],
      "metadata": {
        "id": "5CkLVLLtFMe3"
      },
      "execution_count": null,
      "outputs": []
    },
    {
      "cell_type": "code",
      "source": [
        "!cd sample_data/"
      ],
      "metadata": {
        "id": "Po1veExhFWrX"
      },
      "execution_count": null,
      "outputs": []
    },
    {
      "cell_type": "code",
      "source": [
        "!ls\n"
      ],
      "metadata": {
        "id": "e1BoRpkbF9Ij"
      },
      "execution_count": null,
      "outputs": []
    },
    {
      "cell_type": "code",
      "source": [
        "!mkdir temp"
      ],
      "metadata": {
        "id": "dkI4bWrTGJDU"
      },
      "execution_count": null,
      "outputs": []
    },
    {
      "cell_type": "code",
      "source": [
        "!cp test.txt temp"
      ],
      "metadata": {
        "id": "T-69s8cKGTBk"
      },
      "execution_count": null,
      "outputs": []
    },
    {
      "cell_type": "code",
      "source": [
        "!cd temp/ %%ls"
      ],
      "metadata": {
        "id": "b9Kr3UuZGYrs"
      },
      "execution_count": null,
      "outputs": []
    },
    {
      "cell_type": "code",
      "source": [
        "!cd temp/ &&ls"
      ],
      "metadata": {
        "id": "0_oWqYmEGeV5"
      },
      "execution_count": null,
      "outputs": []
    },
    {
      "cell_type": "code",
      "source": [
        "!rm temp/test.txt\n",
        "!ls"
      ],
      "metadata": {
        "id": "QU_3cjCTGtA6"
      },
      "execution_count": null,
      "outputs": []
    },
    {
      "cell_type": "code",
      "source": [
        "from google.colab import drive\n",
        "drive.mount('/content/drvie')"
      ],
      "metadata": {
        "id": "2AlIApjHG3zN"
      },
      "execution_count": null,
      "outputs": []
    },
    {
      "cell_type": "code",
      "source": [
        "In\n",
        "\n"
      ],
      "metadata": {
        "id": "c2AY99MVCVrT"
      },
      "execution_count": null,
      "outputs": []
    },
    {
      "cell_type": "code",
      "source": [
        "! cat /proc/cpuinfo"
      ],
      "metadata": {
        "id": "oCtz1_QxCf2f"
      },
      "execution_count": null,
      "outputs": []
    },
    {
      "cell_type": "code",
      "source": [
        "!cat /porc/meminfo\n"
      ],
      "metadata": {
        "id": "eR4gUsg0CoEx"
      },
      "execution_count": null,
      "outputs": []
    },
    {
      "cell_type": "code",
      "source": [
        "!python --version"
      ],
      "metadata": {
        "id": "HzNrClWiCvpu"
      },
      "execution_count": null,
      "outputs": []
    },
    {
      "cell_type": "code",
      "source": [
        "%%writefile text.txt\n",
        "apple \n",
        "orange\n",
        "korea\n",
        "google\n",
        "\n",
        "!cat text.txt"
      ],
      "metadata": {
        "id": "1DQdSSaVC29S"
      },
      "execution_count": null,
      "outputs": []
    },
    {
      "cell_type": "code",
      "source": [
        "from google.colab import files\n",
        "upload=files.upload()\n"
      ],
      "metadata": {
        "id": "QpaZBG9pc4Bi"
      },
      "execution_count": null,
      "outputs": []
    },
    {
      "cell_type": "code",
      "source": [
        "import pandas  as pd\n",
        "df = pd.DataFrame({ \"a\": [11,12,13],\n",
        "                   \"b\" : [21,22,23],\n",
        "                   \"c\":[31,32,33]},\n",
        "                  index=[1,2,3])\n",
        "\n",
        "print(df)\n",
        "df.to_csv('testcsv.csv')\n",
        "df2 = pd.read_csv('./testcsv.csv')\n",
        "print(df2)"
      ],
      "metadata": {
        "id": "MkKO6GJUc8sB"
      },
      "execution_count": null,
      "outputs": []
    },
    {
      "cell_type": "code",
      "source": [
        "%%writefile test1.py\n",
        "print('korea')\n",
        "%run test1.py"
      ],
      "metadata": {
        "id": "H9Kt2LMkfDGd"
      },
      "execution_count": null,
      "outputs": []
    },
    {
      "cell_type": "code",
      "source": [
        "In\n"
      ],
      "metadata": {
        "id": "7RTPRyOli0QI"
      },
      "execution_count": null,
      "outputs": []
    },
    {
      "cell_type": "code",
      "source": [],
      "metadata": {
        "id": "ObXX3PE1mI3C"
      },
      "execution_count": null,
      "outputs": []
    },
    {
      "cell_type": "markdown",
      "source": [
        "### heading   \n",
        "# heading  \n",
        "\n",
        "\n",
        "\n",
        "1.   **one**\n",
        "2.   **two**\n",
        "1.   **three**\n",
        "\n",
        "    *   ~~하나~~\n",
        "    *   <u>둘</u>\n",
        "\n",
        "\n",
        "    *   [전남대학교](https://www.chonnam.ac.kr)\n",
        "    *   [네이버](https://www.naver.com)\n",
        "\n",
        "\n",
        "\n",
        "\n",
        "\n",
        "\n",
        "\n"
      ],
      "metadata": {
        "id": "anaBtYNjmY6S"
      }
    },
    {
      "cell_type": "markdown",
      "source": [
        "[전남대학교](https://www.chonnam.ac.kr)"
      ],
      "metadata": {
        "id": "WqJ84F-ooH-f"
      }
    },
    {
      "cell_type": "code",
      "source": [
        "```python\n",
        "a=10\n",
        "print(a)\n",
        "for i in range(5):\n",
        "    print(i)\n",
        "```"
      ],
      "metadata": {
        "id": "JNO-i_XmoYPJ"
      },
      "execution_count": null,
      "outputs": []
    },
    {
      "cell_type": "markdown",
      "source": [
        "```python\n",
        "a=10\n",
        "print(a)\n",
        "for i in range(5):\n",
        "    print(i)\n",
        "```"
      ],
      "metadata": {
        "id": "zQXnLCeno8Cm"
      }
    },
    {
      "cell_type": "markdown",
      "source": [
        "# github에서 가져올까?  \n",
        "https://colab.research.google.com/github/yoon-hyosun/SW/blob/main/numpy_yoon.ipynb"
      ],
      "metadata": {
        "id": "ZMy-5vQWuFD4"
      }
    }
  ]
}